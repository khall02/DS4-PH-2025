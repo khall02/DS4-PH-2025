{
  "nbformat": 4,
  "nbformat_minor": 0,
  "metadata": {
    "colab": {
      "provenance": [],
      "toc_visible": true,
      "authorship_tag": "ABX9TyPYaTPDamy3m4Q5Z4UaEYO/",
      "include_colab_link": true
    },
    "kernelspec": {
      "name": "python3",
      "display_name": "Python 3"
    },
    "language_info": {
      "name": "python"
    }
  },
  "cells": [
    {
      "cell_type": "markdown",
      "metadata": {
        "id": "view-in-github",
        "colab_type": "text"
      },
      "source": [
        "<a href=\"https://colab.research.google.com/github/khall02/DS4-PH-2025/blob/main/hw4.ipynb\" target=\"_parent\"><img src=\"https://colab.research.google.com/assets/colab-badge.svg\" alt=\"Open In Colab\"/></a>"
      ]
    },
    {
      "cell_type": "code",
      "execution_count": 22,
      "metadata": {
        "id": "wN17C_WhOJjh"
      },
      "outputs": [],
      "source": [
        "import sqlite3\n",
        "import pandas as pd\n",
        "import matplotlib.pyplot as plt\n"
      ]
    },
    {
      "cell_type": "code",
      "source": [
        "# Connect to the SQLite database- uploaded opioid.db to google colab, saved from Terminal\n",
        "conn = sqlite3.connect(\"/content/opioid.db\")\n"
      ],
      "metadata": {
        "id": "4x2AzixGOigL"
      },
      "execution_count": 25,
      "outputs": []
    },
    {
      "cell_type": "code",
      "source": [
        "# Read tables into Pandas dataframes\n",
        "county_pop_arcos = pd.read_sql_query(\"SELECT * FROM county_pop_arcos\", conn)\n",
        "land_area = pd.read_sql_query(\"SELECT * FROM land_area\", conn)\n",
        "county_annual = pd.read_sql_query(\"SELECT * FROM county_annual\", conn)\n"
      ],
      "metadata": {
        "id": "eSFJDIPMOkCy"
      },
      "execution_count": 26,
      "outputs": []
    },
    {
      "cell_type": "code",
      "source": [
        "conn.close()\n"
      ],
      "metadata": {
        "id": "fmsPDhucOwga"
      },
      "execution_count": 27,
      "outputs": []
    },
    {
      "cell_type": "code",
      "source": [
        "# Look at data preview:\n",
        "print(county_pop_arcos.head())\n",
        "print(land_area.head())\n",
        "print(county_annual.head())\n"
      ],
      "metadata": {
        "colab": {
          "base_uri": "https://localhost:8080/"
        },
        "id": "BefCdDljPj98",
        "outputId": "4607e20e-d55b-4ca6-b9d8-c20b7b86afa7"
      },
      "execution_count": 28,
      "outputs": [
        {
          "output_type": "stream",
          "name": "stdout",
          "text": [
            "   ? BUYER_COUNTY BUYER_STATE countyfips STATE COUNTY county_name  \\\n",
            "0  1      AUTAUGA          AL      01001     1      1     Autauga   \n",
            "1  2      BALDWIN          AL      01003     1      3     Baldwin   \n",
            "2  3      BARBOUR          AL      01005     1      5     Barbour   \n",
            "3  4         BIBB          AL      01007     1      7        Bibb   \n",
            "4  5       BLOUNT          AL      01009     1      9      Blount   \n",
            "\n",
            "                      NAME    variable  year population  \n",
            "0  Autauga County, Alabama  B01003_001  2006      51328  \n",
            "1  Baldwin County, Alabama  B01003_001  2006     168121  \n",
            "2  Barbour County, Alabama  B01003_001  2006      27861  \n",
            "3     Bibb County, Alabama  B01003_001  2006      22099  \n",
            "4   Blount County, Alabama  B01003_001  2006      55485  \n",
            "   ?       Areaname  STCOU LND010190F  LND010190D LND010190N1 LND010190N2  \\\n",
            "0  1  UNITED STATES  00000          0  3787425.08        0000        0000   \n",
            "1  2        ALABAMA  01000          0    52422.94        0000        0000   \n",
            "2  3    Autauga, AL  01001          0      604.49        0000        0000   \n",
            "3  4    Baldwin, AL  01003          0     2027.08        0000        0000   \n",
            "4  5    Barbour, AL  01005          0      904.59        0000        0000   \n",
            "\n",
            "  LND010200F  LND010200D LND010200N1  ... LND110210N1 LND110210N2 LND210190F  \\\n",
            "0          0  3794083.06        0000  ...        0000        0000          0   \n",
            "1          0    52419.02        0000  ...        0000        0000          0   \n",
            "2          0      604.45        0000  ...        0000        0000          0   \n",
            "3          0     2026.93        0000  ...        0000        0000          0   \n",
            "4          0      904.52        0000  ...        0000        0000          0   \n",
            "\n",
            "  LND210190D LND210190N1 LND210190N2 LND210200F LND210200D LND210200N1  \\\n",
            "0  251083.35        0000        0000          0  256644.62        0000   \n",
            "1    1672.71        0000        0000          0    1675.01        0000   \n",
            "2       8.48        0000        0000          0       8.48        0000   \n",
            "3     430.55        0000        0000          0     430.58        0000   \n",
            "4      19.59        0000        0000          0      19.61        0000   \n",
            "\n",
            "  LND210200N2  \n",
            "0        0000  \n",
            "1        0000  \n",
            "2        0000  \n",
            "3        0000  \n",
            "4        0000  \n",
            "\n",
            "[5 rows x 35 columns]\n",
            "   ? BUYER_COUNTY BUYER_STATE  year count DOSAGE_UNIT countyfips\n",
            "0  1    ABBEVILLE          SC  2006   877      363620      45001\n",
            "1  2    ABBEVILLE          SC  2007   908      402940      45001\n",
            "2  3    ABBEVILLE          SC  2008   871      424590      45001\n",
            "3  4    ABBEVILLE          SC  2009   930      467230      45001\n",
            "4  5    ABBEVILLE          SC  2010  1197      539280      45001\n"
          ]
        }
      ]
    },
    {
      "cell_type": "code",
      "source": [
        "# Rename columns for consistency\n",
        "county_pop_arcos.rename(columns={ \"BUYER_STATE\": \"state\", \"population\": \"pop\"}, inplace=True)\n",
        "county_annual.rename(columns={\"BUYER_COUNTY\": \"county_name\", \"BUYER_STATE\": \"state\", \"DOSAGE_UNIT\": \"opioid_pills\"}, inplace=True)\n",
        "\n"
      ],
      "metadata": {
        "id": "rsm-RRWfRAJh"
      },
      "execution_count": 29,
      "outputs": []
    },
    {
      "cell_type": "code",
      "source": [
        "# Split \"Areaname\" into county and state\n",
        "land_area[[\"county_name\", \"state\"]] = land_area[\"Areaname\"].str.rsplit(\", \", n=1, expand=True)\n"
      ],
      "metadata": {
        "id": "Hgx0-aPaRCMa"
      },
      "execution_count": 30,
      "outputs": []
    },
    {
      "cell_type": "code",
      "source": [
        "# Rename STCOU to countyfips for merging\n",
        "land_area.rename(columns={\"STCOU\": \"countyfips\"}, inplace=True)\n"
      ],
      "metadata": {
        "id": "q--vJMEKRFOn"
      },
      "execution_count": 31,
      "outputs": []
    },
    {
      "cell_type": "code",
      "source": [
        "# `countyfips` is consistently formatted as a string\n",
        "county_pop_arcos[\"countyfips\"] = county_pop_arcos[\"countyfips\"].astype(str)\n",
        "land_area[\"countyfips\"] = land_area[\"countyfips\"].astype(str)\n",
        "county_annual[\"countyfips\"] = county_annual[\"countyfips\"].astype(str)\n"
      ],
      "metadata": {
        "id": "a3RT5xvKRH-_"
      },
      "execution_count": 32,
      "outputs": []
    },
    {
      "cell_type": "code",
      "source": [
        "# Merge datasets\n",
        "df = county_pop_arcos.merge(land_area, on=[\"countyfips\", \"state\"], how=\"left\")\n",
        "df = df.merge(county_annual, on=[\"countyfips\", \"year\", \"state\"], how=\"left\")\n"
      ],
      "metadata": {
        "id": "A7btRNBeRKqD"
      },
      "execution_count": 33,
      "outputs": []
    },
    {
      "cell_type": "code",
      "source": [
        "# Convert `year` to integer\n",
        "df[\"year\"] = df[\"year\"].astype(int)\n"
      ],
      "metadata": {
        "id": "TmNULdI6RNM9"
      },
      "execution_count": 34,
      "outputs": []
    },
    {
      "cell_type": "code",
      "source": [
        "# Ensure numeric columns are converted properly\n",
        "df[\"opioid_pills\"] = pd.to_numeric(df[\"opioid_pills\"], errors=\"coerce\")\n",
        "df[\"pop\"] = pd.to_numeric(df[\"pop\"], errors=\"coerce\")\n",
        "\n"
      ],
      "metadata": {
        "id": "lNMA1n-hRQQ4"
      },
      "execution_count": 35,
      "outputs": []
    },
    {
      "cell_type": "code",
      "source": [
        "# calc opioid avg per person\n",
        "df[\"opioid_pills_per_person\"] = df[\"opioid_pills\"] / df[\"pop\"]\n"
      ],
      "metadata": {
        "id": "Gj8TgbwHRsKk"
      },
      "execution_count": 36,
      "outputs": []
    },
    {
      "cell_type": "code",
      "source": [
        "# Aggregate: average opioid pills per year\n",
        "opioid_by_year = df.groupby(\"year\")[\"opioid_pills_per_person\"].mean().reset_index()"
      ],
      "metadata": {
        "id": "qZp8Y2MURuUK"
      },
      "execution_count": 37,
      "outputs": []
    },
    {
      "cell_type": "code",
      "source": [
        "print(opioid_by_year.head())"
      ],
      "metadata": {
        "colab": {
          "base_uri": "https://localhost:8080/"
        },
        "id": "-rXVdHJhSay-",
        "outputId": "b0613252-2bb9-487a-f186-fca30b2cb629"
      },
      "execution_count": 38,
      "outputs": [
        {
          "output_type": "stream",
          "name": "stdout",
          "text": [
            "   year  opioid_pills_per_person\n",
            "0  2006                28.783799\n",
            "1  2007                32.474087\n",
            "2  2008                35.503895\n",
            "3  2009                39.094975\n",
            "4  2010                41.532509\n"
          ]
        }
      ]
    },
    {
      "cell_type": "code",
      "source": [
        "#Create a scatterplot of the average number of opiod pills by year by loading the sql database in python\n",
        "plt.figure(figsize=(10, 6))\n",
        "plt.scatter(opioid_by_year[\"year\"], opioid_by_year[\"opioid_pills_per_person\"], color='b', alpha=0.6)\n",
        "plt.xlabel(\"Year\")\n",
        "plt.ylabel(\"Average Opioid Pills Per Person\")\n",
        "plt.title(\"Average Opioid Pills Per Person Per Year\")\n",
        "plt.grid(True)\n",
        "plt.show()"
      ],
      "metadata": {
        "colab": {
          "base_uri": "https://localhost:8080/",
          "height": 440
        },
        "id": "4lQFr4dMRu8C",
        "outputId": "b1c0e49f-df9d-4c51-f1e3-67c82c1eacb8"
      },
      "execution_count": 39,
      "outputs": [
        {
          "output_type": "display_data",
          "data": {
            "text/plain": [
              "<Figure size 1000x600 with 1 Axes>"
            ],
            "image/png": "[encoded data removed]"
          },
          "metadata": {}
        }
      ]
    },
    {
      "cell_type": "code",
      "source": [
        "#Take your R code from the previous step and call it from python instead of R. Convert the resulting dataset to a pandas dataframe.\n",
        "\n",
        "\n",
        "import rpy2.robjects as ro\n",
        "from rpy2.robjects import pandas2ri"
      ],
      "metadata": {
        "id": "BwZgyYSmZaUa"
      },
      "execution_count": 90,
      "outputs": []
    },
    {
      "cell_type": "code",
      "source": [
        "# Enable automatic conversion between R and pandas\n",
        "pandas2ri.activate()\n",
        "\n"
      ],
      "metadata": {
        "id": "-57-LdQlZ_WQ"
      },
      "execution_count": 91,
      "outputs": []
    },
    {
      "cell_type": "code",
      "source": [
        "#Run the R script (loads df into R environment)\n",
        "ro.r.source(\"hw4.R\")\n"
      ],
      "metadata": {
        "colab": {
          "base_uri": "https://localhost:8080/",
          "height": 186
        },
        "id": "ZQGrEBVMaDch",
        "outputId": "b150e959-8512-42ab-f2f7-f9132a438b58"
      },
      "execution_count": 98,
      "outputs": [
        {
          "output_type": "stream",
          "name": "stdout",
          "text": [
            "New names:\n",
            "• `` -> `...1`\n",
            "New names:\n",
            "• `` -> `...1`\n",
            "New names:\n",
            "• `` -> `...1`\n"
          ]
        },
        {
          "output_type": "execute_result",
          "data": {
            "text/plain": [
              "<rpy2.robjects.vectors.ListVector object at 0x7e207008d890> [19]\n",
              "R classes: ('list',)\n",
              "[ListSexpVector, BoolSexpVector]\n",
              "  value: <class 'rpy2.rinterface.ListSexpVector'>\n",
              "  <rpy2.rinterface.ListSexpVector object at 0x7e2071878b50> [19]\n",
              "  visible: <class 'rpy2.rinterface.BoolSexpVector'>\n",
              "  <rpy2.rinterface.BoolSexpVector object at 0x7e2071879210> [10]"
            ],
            "text/html": [
              "\n",
              "        <span>ListVector with 2 elements.</span>\n",
              "        <table>\n",
              "        <tbody>\n",
              "        \n",
              "          <tr>\n",
              "            <th>\n",
              "            value\n",
              "            </th>\n",
              "            <td>\n",
              "            <rpy2.rinterface.ListSexpVector object at 0x7e207200a550> [19]\n",
              "            </td>\n",
              "          </tr>\n",
              "        \n",
              "          <tr>\n",
              "            <th>\n",
              "            visible\n",
              "            </th>\n",
              "            <td>\n",
              "            <rpy2.rinterface.BoolSexpVector object at 0x7e207200bfd0> [10]\n",
              "            </td>\n",
              "          </tr>\n",
              "        \n",
              "        </tbody>\n",
              "        </table>\n",
              "        "
            ]
          },
          "metadata": {},
          "execution_count": 98
        }
      ]
    },
    {
      "cell_type": "code",
      "source": [
        "r_df = ro.r['df']\n"
      ],
      "metadata": {
        "id": "2PDM_tMpmQJq"
      },
      "execution_count": 101,
      "outputs": []
    },
    {
      "cell_type": "code",
      "source": [
        "# use r_df as a Pandas DataFrame\n",
        "if isinstance(r_df, pd.DataFrame):\n",
        "    opioid_df = r_df  # Already a Pandas DataFrame, no conversion needed\n",
        "else:\n",
        "    opioid_df = pandas2ri.rpy2py(r_df)  # Convert only if necessary\n"
      ],
      "metadata": {
        "id": "rbqMwXT8edzM"
      },
      "execution_count": 102,
      "outputs": []
    },
    {
      "cell_type": "code",
      "source": [
        "# Remove any unnamed columns (like `...1`)\n",
        "opioid_df = opioid_df.loc[:, ~opioid_df.columns.str.contains(r'^\\.\\.\\.\\d+', regex=True)]\n"
      ],
      "metadata": {
        "id": "_TAgClpflcj6"
      },
      "execution_count": 103,
      "outputs": []
    },
    {
      "cell_type": "code",
      "source": [
        "print(opioid_df.head())\n",
        "\n"
      ],
      "metadata": {
        "colab": {
          "base_uri": "https://localhost:8080/"
        },
        "id": "lij-LhLpeikB",
        "outputId": "ab2f77c8-5752-4aef-bb7d-709db1a2c3a2"
      },
      "execution_count": 104,
      "outputs": [
        {
          "output_type": "stream",
          "name": "stdout",
          "text": [
            "  BUYER_COUNTY state countyfips  STATE  COUNTY county_name.x  \\\n",
            "1      AUTAUGA    AL      01001    1.0     1.0       Autauga   \n",
            "2      BALDWIN    AL      01003    1.0     3.0       Baldwin   \n",
            "3      BARBOUR    AL      01005    1.0     5.0       Barbour   \n",
            "4         BIBB    AL      01007    1.0     7.0          Bibb   \n",
            "5       BLOUNT    AL      01009    1.0     9.0        Blount   \n",
            "\n",
            "                      NAME    variable  year       pop  ... LND210190N1  \\\n",
            "1  Autauga County, Alabama  B01003_001  2006   51328.0  ...        0000   \n",
            "2  Baldwin County, Alabama  B01003_001  2006  168121.0  ...        0000   \n",
            "3  Barbour County, Alabama  B01003_001  2006   27861.0  ...        0000   \n",
            "4     Bibb County, Alabama  B01003_001  2006   22099.0  ...        0000   \n",
            "5   Blount County, Alabama  B01003_001  2006   55485.0  ...        0000   \n",
            "\n",
            "   LND210190N2  LND210200F LND210200D LND210200N1  LND210200N2  county_name  \\\n",
            "1         0000         0.0       8.48        0000         0000      AUTAUGA   \n",
            "2         0000         0.0     430.58        0000         0000      BALDWIN   \n",
            "3         0000         0.0      19.61        0000         0000      BARBOUR   \n",
            "4         0000         0.0       3.14        0000         0000         BIBB   \n",
            "5         0000         0.0       5.02        0000         0000       BLOUNT   \n",
            "\n",
            "     count opioid_pills  opioid_pills_per_person  \n",
            "1   5470.0    2277140.0                44.364479  \n",
            "2  17381.0    6353798.0                37.793006  \n",
            "3   2920.0     827060.0                29.685223  \n",
            "4   1899.0     754210.0                34.128694  \n",
            "5   2757.0    1290295.0                23.254844  \n",
            "\n",
            "[5 rows x 47 columns]\n"
          ]
        }
      ]
    }
  ]
}