{
  "nbformat": 4,
  "nbformat_minor": 0,
  "metadata": {
    "colab": {
      "provenance": [],
      "authorship_tag": "ABX9TyN0S1bgKnvjR6xCMq94666h",
      "include_colab_link": true
    },
    "kernelspec": {
      "name": "python3",
      "display_name": "Python 3"
    },
    "language_info": {
      "name": "python"
    }
  },
  "cells": [
    {
      "cell_type": "markdown",
      "metadata": {
        "id": "view-in-github",
        "colab_type": "text"
      },
      "source": [
        "<a href=\"https://colab.research.google.com/github/khall02/DS4-PH-2025/blob/main/hw4.ipynb\" target=\"_parent\"><img src=\"https://colab.research.google.com/assets/colab-badge.svg\" alt=\"Open In Colab\"/></a>"
      ]
    },
    {
      "cell_type": "code",
      "execution_count": null,
      "metadata": {
        "id": "wN17C_WhOJjh"
      },
      "outputs": [],
      "source": [
        "import sqlite3\n",
        "import pandas as pd\n",
        "import matplotlib.pyplot as plt\n"
      ]
    },
    {
      "cell_type": "code",
      "source": [
        "# Connect to the SQLite database- uploaded opioid.db to google colab, saved from Terminal\n",
        "conn = sqlite3.connect(\"/content/opioid.db\")\n"
      ],
      "metadata": {
        "id": "4x2AzixGOigL"
      },
      "execution_count": null,
      "outputs": []
    },
    {
      "cell_type": "code",
      "source": [
        "# Read tables into Pandas dataframes\n",
        "county_pop_arcos = pd.read_sql_query(\"SELECT * FROM county_pop_arcos\", conn)\n",
        "land_area = pd.read_sql_query(\"SELECT * FROM land_area\", conn)\n",
        "county_annual = pd.read_sql_query(\"SELECT * FROM county_annual\", conn)\n"
      ],
      "metadata": {
        "id": "eSFJDIPMOkCy"
      },
      "execution_count": null,
      "outputs": []
    },
    {
      "cell_type": "code",
      "source": [
        "conn.close()\n"
      ],
      "metadata": {
        "id": "fmsPDhucOwga"
      },
      "execution_count": null,
      "outputs": []
    },
    {
      "cell_type": "code",
      "source": [
        "# Look at data preview:\n",
        "print(county_pop_arcos.head())\n",
        "print(land_area.head())\n",
        "print(county_annual.head())\n"
      ],
      "metadata": {
        "colab": {
          "base_uri": "https://localhost:8080/"
        },
        "id": "BefCdDljPj98",
        "outputId": "01a5297a-d9b9-4880-d056-937ad6ff3067"
      },
      "execution_count": null,
      "outputs": [
        {
          "output_type": "stream",
          "name": "stdout",
          "text": [
            "   ? BUYER_COUNTY BUYER_STATE countyfips STATE COUNTY county_name  \\\n",
            "0  1      AUTAUGA          AL      01001     1      1     Autauga   \n",
            "1  2      BALDWIN          AL      01003     1      3     Baldwin   \n",
            "2  3      BARBOUR          AL      01005     1      5     Barbour   \n",
            "3  4         BIBB          AL      01007     1      7        Bibb   \n",
            "4  5       BLOUNT          AL      01009     1      9      Blount   \n",
            "\n",
            "                      NAME    variable  year population  \n",
            "0  Autauga County, Alabama  B01003_001  2006      51328  \n",
            "1  Baldwin County, Alabama  B01003_001  2006     168121  \n",
            "2  Barbour County, Alabama  B01003_001  2006      27861  \n",
            "3     Bibb County, Alabama  B01003_001  2006      22099  \n",
            "4   Blount County, Alabama  B01003_001  2006      55485  \n",
            "   ?       Areaname  STCOU LND010190F  LND010190D LND010190N1 LND010190N2  \\\n",
            "0  1  UNITED STATES  00000          0  3787425.08        0000        0000   \n",
            "1  2        ALABAMA  01000          0    52422.94        0000        0000   \n",
            "2  3    Autauga, AL  01001          0      604.49        0000        0000   \n",
            "3  4    Baldwin, AL  01003          0     2027.08        0000        0000   \n",
            "4  5    Barbour, AL  01005          0      904.59        0000        0000   \n",
            "\n",
            "  LND010200F  LND010200D LND010200N1  ... LND110210N1 LND110210N2 LND210190F  \\\n",
            "0          0  3794083.06        0000  ...        0000        0000          0   \n",
            "1          0    52419.02        0000  ...        0000        0000          0   \n",
            "2          0      604.45        0000  ...        0000        0000          0   \n",
            "3          0     2026.93        0000  ...        0000        0000          0   \n",
            "4          0      904.52        0000  ...        0000        0000          0   \n",
            "\n",
            "  LND210190D LND210190N1 LND210190N2 LND210200F LND210200D LND210200N1  \\\n",
            "0  251083.35        0000        0000          0  256644.62        0000   \n",
            "1    1672.71        0000        0000          0    1675.01        0000   \n",
            "2       8.48        0000        0000          0       8.48        0000   \n",
            "3     430.55        0000        0000          0     430.58        0000   \n",
            "4      19.59        0000        0000          0      19.61        0000   \n",
            "\n",
            "  LND210200N2  \n",
            "0        0000  \n",
            "1        0000  \n",
            "2        0000  \n",
            "3        0000  \n",
            "4        0000  \n",
            "\n",
            "[5 rows x 35 columns]\n",
            "   ? BUYER_COUNTY BUYER_STATE  year count DOSAGE_UNIT countyfips\n",
            "0  1    ABBEVILLE          SC  2006   877      363620      45001\n",
            "1  2    ABBEVILLE          SC  2007   908      402940      45001\n",
            "2  3    ABBEVILLE          SC  2008   871      424590      45001\n",
            "3  4    ABBEVILLE          SC  2009   930      467230      45001\n",
            "4  5    ABBEVILLE          SC  2010  1197      539280      45001\n"
          ]
        }
      ]
    },
    {
      "cell_type": "code",
      "source": [
        "# Rename columns for consistency\n",
        "county_pop_arcos.rename(columns={ \"BUYER_STATE\": \"state\", \"population\": \"pop\"}, inplace=True)\n",
        "county_annual.rename(columns={\"BUYER_COUNTY\": \"county_name\", \"BUYER_STATE\": \"state\", \"DOSAGE_UNIT\": \"opioid_pills\"}, inplace=True)\n",
        "land_area.rename(columns={\"STCOU\": \"countyfips\"}, inplace=True)\n"
      ],
      "metadata": {
        "id": "rsm-RRWfRAJh"
      },
      "execution_count": null,
      "outputs": []
    },
    {
      "cell_type": "code",
      "source": [
        "# Convert \"NA\" to NaN for missing countyfips values:\n",
        "county_annual[\"countyfips\"] = county_annual[\"countyfips\"].replace(\"NA\", pd.NA)\n"
      ],
      "metadata": {
        "id": "YoZKjSkWlcl8"
      },
      "execution_count": null,
      "outputs": []
    },
    {
      "cell_type": "code",
      "source": [
        "# Fix Montg. County, AR\n",
        "county_annual.loc[\n",
        "    (county_annual[\"state\"] == \"AR\") & (county_annual[\"county_name\"] == \"MONTGOMERY\"),\n",
        "    \"countyfips\"\n",
        "] = \"05097\""
      ],
      "metadata": {
        "id": "1Abh-RSWlhzG"
      },
      "execution_count": null,
      "outputs": []
    },
    {
      "cell_type": "code",
      "source": [
        "# Drop rows where countyfips is still missing\n",
        "county_annual = county_annual.dropna(subset=[\"countyfips\"])\n"
      ],
      "metadata": {
        "id": "YkyXR43wlmJw"
      },
      "execution_count": null,
      "outputs": []
    },
    {
      "cell_type": "code",
      "source": [
        "# Convert countyfips to string for consistent merging\n",
        "county_pop_arcos[\"countyfips\"] = county_pop_arcos[\"countyfips\"].astype(str)\n",
        "county_annual[\"countyfips\"] = county_annual[\"countyfips\"].astype(str)\n"
      ],
      "metadata": {
        "id": "q--vJMEKRFOn"
      },
      "execution_count": null,
      "outputs": []
    },
    {
      "cell_type": "code",
      "source": [
        "# Select only the required columns from land_area\n",
        "land_area = land_area[[\"Areaname\", \"countyfips\", \"LND110210D\"]]\n",
        "\n"
      ],
      "metadata": {
        "id": "a3RT5xvKRH-_"
      },
      "execution_count": null,
      "outputs": []
    },
    {
      "cell_type": "code",
      "source": [
        "# Convert countyfips in land_area to string\n",
        "land_area[\"countyfips\"] = land_area[\"countyfips\"].astype(str)\n"
      ],
      "metadata": {
        "id": "TmLoBw91l3ZR"
      },
      "execution_count": null,
      "outputs": []
    },
    {
      "cell_type": "code",
      "source": [
        "# Merge tables: population + land_area\n",
        "county_info = county_pop_arcos.merge(land_area, on=\"countyfips\", how=\"left\")\n",
        "\n"
      ],
      "metadata": {
        "id": "A7btRNBeRKqD"
      },
      "execution_count": null,
      "outputs": []
    },
    {
      "cell_type": "code",
      "source": [
        "# Merge with annual opioid data\n",
        "df = county_info.merge(county_annual, on=[\"countyfips\", \"year\", \"state\"], how=\"left\")\n"
      ],
      "metadata": {
        "id": "ws_u2n8rl7Jx"
      },
      "execution_count": null,
      "outputs": []
    },
    {
      "cell_type": "code",
      "source": [
        "# Convert year to integer\n",
        "df[\"year\"] = df[\"year\"].astype(int)\n"
      ],
      "metadata": {
        "id": "0fCOGmzvl8hH"
      },
      "execution_count": null,
      "outputs": []
    },
    {
      "cell_type": "code",
      "source": [
        "# Ensure numeric columns are properly formatted\n",
        "df[\"opioid_pills\"] = pd.to_numeric(df[\"opioid_pills\"], errors=\"coerce\")\n",
        "df[\"pop\"] = pd.to_numeric(df[\"pop\"], errors=\"coerce\")\n",
        "\n"
      ],
      "metadata": {
        "id": "TmNULdI6RNM9"
      },
      "execution_count": null,
      "outputs": []
    },
    {
      "cell_type": "code",
      "source": [
        "# Calculate opioid pills per person\n",
        "df[\"opioid_pills_per_person\"] = df[\"opioid_pills\"] / df[\"pop\"]\n"
      ],
      "metadata": {
        "id": "L3QJ8f1mmA-M"
      },
      "execution_count": null,
      "outputs": []
    },
    {
      "cell_type": "code",
      "source": [
        "# Aggregate: average opioid pills per year\n",
        "opioid_by_year = df.groupby(\"year\")[\"opioid_pills_per_person\"].mean().reset_index()\n"
      ],
      "metadata": {
        "id": "xNoE-s40mCva"
      },
      "execution_count": null,
      "outputs": []
    },
    {
      "cell_type": "code",
      "source": [
        "# Print preview\n",
        "print(opioid_by_year.head())\n"
      ],
      "metadata": {
        "id": "5MFX-eT6mEBN",
        "colab": {
          "base_uri": "https://localhost:8080/"
        },
        "outputId": "7d61edb4-24cd-4f87-f9d0-33c4a4a949ad"
      },
      "execution_count": null,
      "outputs": [
        {
          "output_type": "stream",
          "name": "stdout",
          "text": [
            "   year  opioid_pills_per_person\n",
            "0  2006                28.783799\n",
            "1  2007                32.474087\n",
            "2  2008                35.503895\n",
            "3  2009                39.094975\n",
            "4  2010                41.532509\n"
          ]
        }
      ]
    },
    {
      "cell_type": "code",
      "source": [
        "#Create a scatterplot of the average number of opiod pills by year by loading the sql database in python\n",
        "plt.figure(figsize=(10, 6))\n",
        "plt.scatter(opioid_by_year[\"year\"], opioid_by_year[\"opioid_pills_per_person\"], color='b', alpha=0.6)\n",
        "plt.xlabel(\"Year\")\n",
        "plt.ylabel(\"Average Opioid Pills Per Person\")\n",
        "plt.title(\"Average Opioid Pills Per Person Per Year\")\n",
        "plt.grid(True)\n",
        "plt.show()"
      ],
      "metadata": {
        "colab": {
          "base_uri": "https://localhost:8080/",
          "height": 564
        },
        "id": "4lQFr4dMRu8C",
        "outputId": "91f4e400-0979-458b-e07a-fc51498b9608"
      },
      "execution_count": null,
      "outputs": [
        {
          "output_type": "display_data",
          "data": {
            "text/plain": [
              "<Figure size 1000x600 with 1 Axes>"
            ],
            "image/png": "[encoded data removed]"
          },
          "metadata": {}
        }
      ]
    },
    {
      "cell_type": "code",
      "source": [
        "#Take your R code from the previous step and call it from python instead of R. Convert the resulting dataset to a pandas dataframe.\n",
        "\n",
        "\n",
        "import rpy2.robjects as robjects\n",
        "from rpy2.robjects import pandas2ri\n",
        "from rpy2.robjects.packages import importr"
      ],
      "metadata": {
        "id": "BwZgyYSmZaUa"
      },
      "execution_count": 98,
      "outputs": []
    },
    {
      "cell_type": "code",
      "source": [
        "# Initialize R <-> Python conversion\n",
        "pandas2ri.activate()"
      ],
      "metadata": {
        "id": "7jRY2HOsnznM"
      },
      "execution_count": 99,
      "outputs": []
    },
    {
      "cell_type": "code",
      "source": [
        "# Source the R script\n",
        "robjects.r['source']('hw4.R')\n"
      ],
      "metadata": {
        "colab": {
          "base_uri": "https://localhost:8080/",
          "height": 436
        },
        "id": "-57-LdQlZ_WQ",
        "outputId": "7910b78c-2d48-460f-95dc-75c11166c00e"
      },
      "execution_count": 100,
      "outputs": [
        {
          "output_type": "stream",
          "name": "stderr",
          "text": [
            "WARNING:rpy2.rinterface_lib.callbacks:R[write to console]: \n",
            "Attaching package: ‘dplyr’\n",
            "\n",
            "\n",
            "WARNING:rpy2.rinterface_lib.callbacks:R[write to console]: The following objects are masked from ‘package:stats’:\n",
            "\n",
            "    filter, lag\n",
            "\n",
            "\n",
            "WARNING:rpy2.rinterface_lib.callbacks:R[write to console]: The following objects are masked from ‘package:base’:\n",
            "\n",
            "    intersect, setdiff, setequal, union\n",
            "\n",
            "\n"
          ]
        },
        {
          "output_type": "stream",
          "name": "stdout",
          "text": [
            "New names:\n",
            "• `` -> `...1`\n",
            "New names:\n",
            "• `` -> `...1`\n",
            "New names:\n",
            "• `` -> `...1`\n"
          ]
        },
        {
          "output_type": "execute_result",
          "data": {
            "text/plain": [
              "<rpy2.robjects.vectors.ListVector object at 0x7d9179c36410> [19]\n",
              "R classes: ('list',)\n",
              "[ListSexpVector, BoolSexpVector]\n",
              "  value: <class 'rpy2.rinterface.ListSexpVector'>\n",
              "  <rpy2.rinterface.ListSexpVector object at 0x7d9179c26490> [19]\n",
              "  visible: <class 'rpy2.rinterface.BoolSexpVector'>\n",
              "  <rpy2.rinterface.BoolSexpVector object at 0x7d9179caa2d0> [10]"
            ],
            "text/html": [
              "\n",
              "        <span>ListVector with 2 elements.</span>\n",
              "        <table>\n",
              "        <tbody>\n",
              "        \n",
              "          <tr>\n",
              "            <th>\n",
              "            value\n",
              "            </th>\n",
              "            <td>\n",
              "            <rpy2.rinterface.ListSexpVector object at 0x7d9179af6e50> [19]\n",
              "            </td>\n",
              "          </tr>\n",
              "        \n",
              "          <tr>\n",
              "            <th>\n",
              "            visible\n",
              "            </th>\n",
              "            <td>\n",
              "            <rpy2.rinterface.BoolSexpVector object at 0x7d9179cdd550> [10]\n",
              "            </td>\n",
              "          </tr>\n",
              "        \n",
              "        </tbody>\n",
              "        </table>\n",
              "        "
            ]
          },
          "metadata": {},
          "execution_count": 100
        }
      ]
    },
    {
      "cell_type": "code",
      "source": [
        "# Get the dataframe from R\n",
        "r_df = robjects.r['df_r']\n"
      ],
      "metadata": {
        "id": "ZQGrEBVMaDch"
      },
      "execution_count": 101,
      "outputs": []
    },
    {
      "cell_type": "code",
      "source": [
        "# Convert to pandas DataFrame\n",
        "if isinstance(r_df, pd.DataFrame):\n",
        "    pandas_df = r_df\n",
        "else:\n",
        "    # Only try conversion if it's not already a pandas DataFrame\n",
        "    pandas_df = pandas2ri.rpy2py(r_df)"
      ],
      "metadata": {
        "id": "2PDM_tMpmQJq"
      },
      "execution_count": 102,
      "outputs": []
    },
    {
      "cell_type": "code",
      "source": [
        "print(pandas_df.head())\n"
      ],
      "metadata": {
        "colab": {
          "base_uri": "https://localhost:8080/"
        },
        "id": "lij-LhLpeikB",
        "outputId": "8903ed14-d938-4ec1-fbc8-7333ff6d0765"
      },
      "execution_count": 103,
      "outputs": [
        {
          "output_type": "stream",
          "name": "stdout",
          "text": [
            "  BUYER_COUNTY state countyfips  STATE  COUNTY county_name.x  \\\n",
            "1      AUTAUGA    AL      01001    1.0     1.0       Autauga   \n",
            "2      BALDWIN    AL      01003    1.0     3.0       Baldwin   \n",
            "3      BARBOUR    AL      01005    1.0     5.0       Barbour   \n",
            "4         BIBB    AL      01007    1.0     7.0          Bibb   \n",
            "5       BLOUNT    AL      01009    1.0     9.0        Blount   \n",
            "\n",
            "                      NAME    variable  year       pop     Areaname  \\\n",
            "1  Autauga County, Alabama  B01003_001  2006   51328.0  Autauga, AL   \n",
            "2  Baldwin County, Alabama  B01003_001  2006  168121.0  Baldwin, AL   \n",
            "3  Barbour County, Alabama  B01003_001  2006   27861.0  Barbour, AL   \n",
            "4     Bibb County, Alabama  B01003_001  2006   22099.0     Bibb, AL   \n",
            "5   Blount County, Alabama  B01003_001  2006   55485.0   Blount, AL   \n",
            "\n",
            "   LND110210D county_name.y    count  opioid_pills  opioid_pills_per_person  \n",
            "1      594.44       AUTAUGA   5470.0     2277140.0                44.364479  \n",
            "2     1589.78       BALDWIN  17381.0     6353798.0                37.793006  \n",
            "3      884.88       BARBOUR   2920.0      827060.0                29.685223  \n",
            "4      622.58          BIBB   1899.0      754210.0                34.128694  \n",
            "5      644.78        BLOUNT   2757.0     1290295.0                23.254844  \n"
          ]
        }
      ]
    },
    {
      "cell_type": "code",
      "source": [
        "robjects.r['df_r']"
      ],
      "metadata": {
        "colab": {
          "base_uri": "https://localhost:8080/",
          "height": 826
        },
        "id": "YcNRCw7UvASF",
        "outputId": "16f47a0b-2e4d-4d49-cef6-c814d2f45774"
      },
      "execution_count": 105,
      "outputs": [
        {
          "output_type": "execute_result",
          "data": {
            "text/plain": [
              "        BUYER_COUNTY state countyfips  STATE  COUNTY  county_name.x  \\\n",
              "1            AUTAUGA    AL      01001    1.0     1.0        Autauga   \n",
              "2            BALDWIN    AL      01003    1.0     3.0        Baldwin   \n",
              "3            BARBOUR    AL      01005    1.0     5.0        Barbour   \n",
              "4               BIBB    AL      01007    1.0     7.0           Bibb   \n",
              "5             BLOUNT    AL      01009    1.0     9.0         Blount   \n",
              "...              ...   ...        ...    ...     ...            ...   \n",
              "28261       WASHAKIE    WY      56043   56.0    43.0       Washakie   \n",
              "28262         WESTON    WY      56045   56.0    45.0         Weston   \n",
              "28263        SKAGWAY    AK      02230    2.0   230.0        Skagway   \n",
              "28264  HOONAH ANGOON    AK      02105    2.0   105.0  Hoonah Angoon   \n",
              "28265     PETERSBURG    AK      02195    2.0   195.0     Petersburg   \n",
              "\n",
              "                                    NAME    variable  year       pop  \\\n",
              "1                Autauga County, Alabama  B01003_001  2006   51328.0   \n",
              "2                Baldwin County, Alabama  B01003_001  2006  168121.0   \n",
              "3                Barbour County, Alabama  B01003_001  2006   27861.0   \n",
              "4                   Bibb County, Alabama  B01003_001  2006   22099.0   \n",
              "5                 Blount County, Alabama  B01003_001  2006   55485.0   \n",
              "...                                  ...         ...   ...       ...   \n",
              "28261           Washakie County, Wyoming  B01003_001  2014    8444.0   \n",
              "28262             Weston County, Wyoming  B01003_001  2014    7135.0   \n",
              "28263       Skagway Municipality, Alaska  B01003_001  2014     996.0   \n",
              "28264  Hoonah-Angoon Census Area, Alaska  B01003_001  2014    2126.0   \n",
              "28265         Petersburg Borough, Alaska  B01003_001  2014    3212.0   \n",
              "\n",
              "                Areaname  LND110210D county_name.y    count  opioid_pills  \\\n",
              "1            Autauga, AL      594.44       AUTAUGA   5470.0     2277140.0   \n",
              "2            Baldwin, AL     1589.78       BALDWIN  17381.0     6353798.0   \n",
              "3            Barbour, AL      884.88       BARBOUR   2920.0      827060.0   \n",
              "4               Bibb, AL      622.58          BIBB   1899.0      754210.0   \n",
              "5             Blount, AL      644.78        BLOUNT   2757.0     1290295.0   \n",
              "...                  ...         ...           ...      ...           ...   \n",
              "28261       Washakie, WY     2238.55      WASHAKIE   1419.0      545300.0   \n",
              "28262         Weston, WY     2398.09        WESTON    618.0      199500.0   \n",
              "28263        Skagway, AK      452.33          None      NaN           NaN   \n",
              "28264  Hoonah-Angoon, AK     7524.92          None      NaN           NaN   \n",
              "28265     Petersburg, AK     3281.98    PETERSBURG    251.0       60820.0   \n",
              "\n",
              "       opioid_pills_per_person  \n",
              "1                    44.364479  \n",
              "2                    37.793006  \n",
              "3                    29.685223  \n",
              "4                    34.128694  \n",
              "5                    23.254844  \n",
              "...                        ...  \n",
              "28261                64.578399  \n",
              "28262                27.960757  \n",
              "28263                      NaN  \n",
              "28264                      NaN  \n",
              "28265                18.935243  \n",
              "\n",
              "[28265 rows x 16 columns]"
            ],
            "text/html": [
              "\n",
              "  <div id=\"df-af56a00e-0987-4077-8d39-0823b22fb0df\" class=\"colab-df-container\">\n",
              "    <div>\n",
              "<style scoped>\n",
              "    .dataframe tbody tr th:only-of-type {\n",
              "        vertical-align: middle;\n",
              "    }\n",
              "\n",
              "    .dataframe tbody tr th {\n",
              "        vertical-align: top;\n",
              "    }\n",
              "\n",
              "    .dataframe thead th {\n",
              "        text-align: right;\n",
              "    }\n",
              "</style>\n",
              "<table border=\"1\" class=\"dataframe\">\n",
              "  <thead>\n",
              "    <tr style=\"text-align: right;\">\n",
              "      <th></th>\n",
              "      <th>BUYER_COUNTY</th>\n",
              "      <th>state</th>\n",
              "      <th>countyfips</th>\n",
              "      <th>STATE</th>\n",
              "      <th>COUNTY</th>\n",
              "      <th>county_name.x</th>\n",
              "      <th>NAME</th>\n",
              "      <th>variable</th>\n",
              "      <th>year</th>\n",
              "      <th>pop</th>\n",
              "      <th>Areaname</th>\n",
              "      <th>LND110210D</th>\n",
              "      <th>county_name.y</th>\n",
              "      <th>count</th>\n",
              "      <th>opioid_pills</th>\n",
              "      <th>opioid_pills_per_person</th>\n",
              "    </tr>\n",
              "  </thead>\n",
              "  <tbody>\n",
              "    <tr>\n",
              "      <th>1</th>\n",
              "      <td>AUTAUGA</td>\n",
              "      <td>AL</td>\n",
              "      <td>01001</td>\n",
              "      <td>1.0</td>\n",
              "      <td>1.0</td>\n",
              "      <td>Autauga</td>\n",
              "      <td>Autauga County, Alabama</td>\n",
              "      <td>B01003_001</td>\n",
              "      <td>2006</td>\n",
              "      <td>51328.0</td>\n",
              "      <td>Autauga, AL</td>\n",
              "      <td>594.44</td>\n",
              "      <td>AUTAUGA</td>\n",
              "      <td>5470.0</td>\n",
              "      <td>2277140.0</td>\n",
              "      <td>44.364479</td>\n",
              "    </tr>\n",
              "    <tr>\n",
              "      <th>2</th>\n",
              "      <td>BALDWIN</td>\n",
              "      <td>AL</td>\n",
              "      <td>01003</td>\n",
              "      <td>1.0</td>\n",
              "      <td>3.0</td>\n",
              "      <td>Baldwin</td>\n",
              "      <td>Baldwin County, Alabama</td>\n",
              "      <td>B01003_001</td>\n",
              "      <td>2006</td>\n",
              "      <td>168121.0</td>\n",
              "      <td>Baldwin, AL</td>\n",
              "      <td>1589.78</td>\n",
              "      <td>BALDWIN</td>\n",
              "      <td>17381.0</td>\n",
              "      <td>6353798.0</td>\n",
              "      <td>37.793006</td>\n",
              "    </tr>\n",
              "    <tr>\n",
              "      <th>3</th>\n",
              "      <td>BARBOUR</td>\n",
              "      <td>AL</td>\n",
              "      <td>01005</td>\n",
              "      <td>1.0</td>\n",
              "      <td>5.0</td>\n",
              "      <td>Barbour</td>\n",
              "      <td>Barbour County, Alabama</td>\n",
              "      <td>B01003_001</td>\n",
              "      <td>2006</td>\n",
              "      <td>27861.0</td>\n",
              "      <td>Barbour, AL</td>\n",
              "      <td>884.88</td>\n",
              "      <td>BARBOUR</td>\n",
              "      <td>2920.0</td>\n",
              "      <td>827060.0</td>\n",
              "      <td>29.685223</td>\n",
              "    </tr>\n",
              "    <tr>\n",
              "      <th>4</th>\n",
              "      <td>BIBB</td>\n",
              "      <td>AL</td>\n",
              "      <td>01007</td>\n",
              "      <td>1.0</td>\n",
              "      <td>7.0</td>\n",
              "      <td>Bibb</td>\n",
              "      <td>Bibb County, Alabama</td>\n",
              "      <td>B01003_001</td>\n",
              "      <td>2006</td>\n",
              "      <td>22099.0</td>\n",
              "      <td>Bibb, AL</td>\n",
              "      <td>622.58</td>\n",
              "      <td>BIBB</td>\n",
              "      <td>1899.0</td>\n",
              "      <td>754210.0</td>\n",
              "      <td>34.128694</td>\n",
              "    </tr>\n",
              "    <tr>\n",
              "      <th>5</th>\n",
              "      <td>BLOUNT</td>\n",
              "      <td>AL</td>\n",
              "      <td>01009</td>\n",
              "      <td>1.0</td>\n",
              "      <td>9.0</td>\n",
              "      <td>Blount</td>\n",
              "      <td>Blount County, Alabama</td>\n",
              "      <td>B01003_001</td>\n",
              "      <td>2006</td>\n",
              "      <td>55485.0</td>\n",
              "      <td>Blount, AL</td>\n",
              "      <td>644.78</td>\n",
              "      <td>BLOUNT</td>\n",
              "      <td>2757.0</td>\n",
              "      <td>1290295.0</td>\n",
              "      <td>23.254844</td>\n",
              "    </tr>\n",
              "    <tr>\n",
              "      <th>...</th>\n",
              "      <td>...</td>\n",
              "      <td>...</td>\n",
              "      <td>...</td>\n",
              "      <td>...</td>\n",
              "      <td>...</td>\n",
              "      <td>...</td>\n",
              "      <td>...</td>\n",
              "      <td>...</td>\n",
              "      <td>...</td>\n",
              "      <td>...</td>\n",
              "      <td>...</td>\n",
              "      <td>...</td>\n",
              "      <td>...</td>\n",
              "      <td>...</td>\n",
              "      <td>...</td>\n",
              "      <td>...</td>\n",
              "    </tr>\n",
              "    <tr>\n",
              "      <th>28261</th>\n",
              "      <td>WASHAKIE</td>\n",
              "      <td>WY</td>\n",
              "      <td>56043</td>\n",
              "      <td>56.0</td>\n",
              "      <td>43.0</td>\n",
              "      <td>Washakie</td>\n",
              "      <td>Washakie County, Wyoming</td>\n",
              "      <td>B01003_001</td>\n",
              "      <td>2014</td>\n",
              "      <td>8444.0</td>\n",
              "      <td>Washakie, WY</td>\n",
              "      <td>2238.55</td>\n",
              "      <td>WASHAKIE</td>\n",
              "      <td>1419.0</td>\n",
              "      <td>545300.0</td>\n",
              "      <td>64.578399</td>\n",
              "    </tr>\n",
              "    <tr>\n",
              "      <th>28262</th>\n",
              "      <td>WESTON</td>\n",
              "      <td>WY</td>\n",
              "      <td>56045</td>\n",
              "      <td>56.0</td>\n",
              "      <td>45.0</td>\n",
              "      <td>Weston</td>\n",
              "      <td>Weston County, Wyoming</td>\n",
              "      <td>B01003_001</td>\n",
              "      <td>2014</td>\n",
              "      <td>7135.0</td>\n",
              "      <td>Weston, WY</td>\n",
              "      <td>2398.09</td>\n",
              "      <td>WESTON</td>\n",
              "      <td>618.0</td>\n",
              "      <td>199500.0</td>\n",
              "      <td>27.960757</td>\n",
              "    </tr>\n",
              "    <tr>\n",
              "      <th>28263</th>\n",
              "      <td>SKAGWAY</td>\n",
              "      <td>AK</td>\n",
              "      <td>02230</td>\n",
              "      <td>2.0</td>\n",
              "      <td>230.0</td>\n",
              "      <td>Skagway</td>\n",
              "      <td>Skagway Municipality, Alaska</td>\n",
              "      <td>B01003_001</td>\n",
              "      <td>2014</td>\n",
              "      <td>996.0</td>\n",
              "      <td>Skagway, AK</td>\n",
              "      <td>452.33</td>\n",
              "      <td>None</td>\n",
              "      <td>NaN</td>\n",
              "      <td>NaN</td>\n",
              "      <td>NaN</td>\n",
              "    </tr>\n",
              "    <tr>\n",
              "      <th>28264</th>\n",
              "      <td>HOONAH ANGOON</td>\n",
              "      <td>AK</td>\n",
              "      <td>02105</td>\n",
              "      <td>2.0</td>\n",
              "      <td>105.0</td>\n",
              "      <td>Hoonah Angoon</td>\n",
              "      <td>Hoonah-Angoon Census Area, Alaska</td>\n",
              "      <td>B01003_001</td>\n",
              "      <td>2014</td>\n",
              "      <td>2126.0</td>\n",
              "      <td>Hoonah-Angoon, AK</td>\n",
              "      <td>7524.92</td>\n",
              "      <td>None</td>\n",
              "      <td>NaN</td>\n",
              "      <td>NaN</td>\n",
              "      <td>NaN</td>\n",
              "    </tr>\n",
              "    <tr>\n",
              "      <th>28265</th>\n",
              "      <td>PETERSBURG</td>\n",
              "      <td>AK</td>\n",
              "      <td>02195</td>\n",
              "      <td>2.0</td>\n",
              "      <td>195.0</td>\n",
              "      <td>Petersburg</td>\n",
              "      <td>Petersburg Borough, Alaska</td>\n",
              "      <td>B01003_001</td>\n",
              "      <td>2014</td>\n",
              "      <td>3212.0</td>\n",
              "      <td>Petersburg, AK</td>\n",
              "      <td>3281.98</td>\n",
              "      <td>PETERSBURG</td>\n",
              "      <td>251.0</td>\n",
              "      <td>60820.0</td>\n",
              "      <td>18.935243</td>\n",
              "    </tr>\n",
              "  </tbody>\n",
              "</table>\n",
              "<p>28265 rows × 16 columns</p>\n",
              "</div>\n",
              "    <div class=\"colab-df-buttons\">\n",
              "\n",
              "  <div class=\"colab-df-container\">\n",
              "    <button class=\"colab-df-convert\" onclick=\"convertToInteractive('df-af56a00e-0987-4077-8d39-0823b22fb0df')\"\n",
              "            title=\"Convert this dataframe to an interactive table.\"\n",
              "            style=\"display:none;\">\n",
              "\n",
              "  <svg xmlns=\"http://www.w3.org/2000/svg\" height=\"24px\" viewBox=\"0 -960 960 960\">\n",
              "    <path d=\"M120-120v-720h720v720H120Zm60-500h600v-160H180v160Zm220 220h160v-160H400v160Zm0 220h160v-160H400v160ZM180-400h160v-160H180v160Zm440 0h160v-160H620v160ZM180-180h160v-160H180v160Zm440 0h160v-160H620v160Z\"/>\n",
              "  </svg>\n",
              "    </button>\n",
              "\n",
              "  <style>\n",
              "    .colab-df-container {\n",
              "      display:flex;\n",
              "      gap: 12px;\n",
              "    }\n",
              "\n",
              "    .colab-df-convert {\n",
              "      background-color: #E8F0FE;\n",
              "      border: none;\n",
              "      border-radius: 50%;\n",
              "      cursor: pointer;\n",
              "      display: none;\n",
              "      fill: #1967D2;\n",
              "      height: 32px;\n",
              "      padding: 0 0 0 0;\n",
              "      width: 32px;\n",
              "    }\n",
              "\n",
              "    .colab-df-convert:hover {\n",
              "      background-color: #E2EBFA;\n",
              "      box-shadow: 0px 1px 2px rgba(60, 64, 67, 0.3), 0px 1px 3px 1px rgba(60, 64, 67, 0.15);\n",
              "      fill: #174EA6;\n",
              "    }\n",
              "\n",
              "    .colab-df-buttons div {\n",
              "      margin-bottom: 4px;\n",
              "    }\n",
              "\n",
              "    [theme=dark] .colab-df-convert {\n",
              "      background-color: #3B4455;\n",
              "      fill: #D2E3FC;\n",
              "    }\n",
              "\n",
              "    [theme=dark] .colab-df-convert:hover {\n",
              "      background-color: #434B5C;\n",
              "      box-shadow: 0px 1px 3px 1px rgba(0, 0, 0, 0.15);\n",
              "      filter: drop-shadow(0px 1px 2px rgba(0, 0, 0, 0.3));\n",
              "      fill: #FFFFFF;\n",
              "    }\n",
              "  </style>\n",
              "\n",
              "    <script>\n",
              "      const buttonEl =\n",
              "        document.querySelector('#df-af56a00e-0987-4077-8d39-0823b22fb0df button.colab-df-convert');\n",
              "      buttonEl.style.display =\n",
              "        google.colab.kernel.accessAllowed ? 'block' : 'none';\n",
              "\n",
              "      async function convertToInteractive(key) {\n",
              "        const element = document.querySelector('#df-af56a00e-0987-4077-8d39-0823b22fb0df');\n",
              "        const dataTable =\n",
              "          await google.colab.kernel.invokeFunction('convertToInteractive',\n",
              "                                                    [key], {});\n",
              "        if (!dataTable) return;\n",
              "\n",
              "        const docLinkHtml = 'Like what you see? Visit the ' +\n",
              "          '<a target=\"_blank\" href=https://colab.research.google.com/notebooks/data_table.ipynb>data table notebook</a>'\n",
              "          + ' to learn more about interactive tables.';\n",
              "        element.innerHTML = '';\n",
              "        dataTable['output_type'] = 'display_data';\n",
              "        await google.colab.output.renderOutput(dataTable, element);\n",
              "        const docLink = document.createElement('div');\n",
              "        docLink.innerHTML = docLinkHtml;\n",
              "        element.appendChild(docLink);\n",
              "      }\n",
              "    </script>\n",
              "  </div>\n",
              "\n",
              "\n",
              "<div id=\"df-dc8dc35f-73e4-4fad-84a4-5d3026b737d8\">\n",
              "  <button class=\"colab-df-quickchart\" onclick=\"quickchart('df-dc8dc35f-73e4-4fad-84a4-5d3026b737d8')\"\n",
              "            title=\"Suggest charts\"\n",
              "            style=\"display:none;\">\n",
              "\n",
              "<svg xmlns=\"http://www.w3.org/2000/svg\" height=\"24px\"viewBox=\"0 0 24 24\"\n",
              "     width=\"24px\">\n",
              "    <g>\n",
              "        <path d=\"M19 3H5c-1.1 0-2 .9-2 2v14c0 1.1.9 2 2 2h14c1.1 0 2-.9 2-2V5c0-1.1-.9-2-2-2zM9 17H7v-7h2v7zm4 0h-2V7h2v10zm4 0h-2v-4h2v4z\"/>\n",
              "    </g>\n",
              "</svg>\n",
              "  </button>\n",
              "\n",
              "<style>\n",
              "  .colab-df-quickchart {\n",
              "      --bg-color: #E8F0FE;\n",
              "      --fill-color: #1967D2;\n",
              "      --hover-bg-color: #E2EBFA;\n",
              "      --hover-fill-color: #174EA6;\n",
              "      --disabled-fill-color: #AAA;\n",
              "      --disabled-bg-color: #DDD;\n",
              "  }\n",
              "\n",
              "  [theme=dark] .colab-df-quickchart {\n",
              "      --bg-color: #3B4455;\n",
              "      --fill-color: #D2E3FC;\n",
              "      --hover-bg-color: #434B5C;\n",
              "      --hover-fill-color: #FFFFFF;\n",
              "      --disabled-bg-color: #3B4455;\n",
              "      --disabled-fill-color: #666;\n",
              "  }\n",
              "\n",
              "  .colab-df-quickchart {\n",
              "    background-color: var(--bg-color);\n",
              "    border: none;\n",
              "    border-radius: 50%;\n",
              "    cursor: pointer;\n",
              "    display: none;\n",
              "    fill: var(--fill-color);\n",
              "    height: 32px;\n",
              "    padding: 0;\n",
              "    width: 32px;\n",
              "  }\n",
              "\n",
              "  .colab-df-quickchart:hover {\n",
              "    background-color: var(--hover-bg-color);\n",
              "    box-shadow: 0 1px 2px rgba(60, 64, 67, 0.3), 0 1px 3px 1px rgba(60, 64, 67, 0.15);\n",
              "    fill: var(--button-hover-fill-color);\n",
              "  }\n",
              "\n",
              "  .colab-df-quickchart-complete:disabled,\n",
              "  .colab-df-quickchart-complete:disabled:hover {\n",
              "    background-color: var(--disabled-bg-color);\n",
              "    fill: var(--disabled-fill-color);\n",
              "    box-shadow: none;\n",
              "  }\n",
              "\n",
              "  .colab-df-spinner {\n",
              "    border: 2px solid var(--fill-color);\n",
              "    border-color: transparent;\n",
              "    border-bottom-color: var(--fill-color);\n",
              "    animation:\n",
              "      spin 1s steps(1) infinite;\n",
              "  }\n",
              "\n",
              "  @keyframes spin {\n",
              "    0% {\n",
              "      border-color: transparent;\n",
              "      border-bottom-color: var(--fill-color);\n",
              "      border-left-color: var(--fill-color);\n",
              "    }\n",
              "    20% {\n",
              "      border-color: transparent;\n",
              "      border-left-color: var(--fill-color);\n",
              "      border-top-color: var(--fill-color);\n",
              "    }\n",
              "    30% {\n",
              "      border-color: transparent;\n",
              "      border-left-color: var(--fill-color);\n",
              "      border-top-color: var(--fill-color);\n",
              "      border-right-color: var(--fill-color);\n",
              "    }\n",
              "    40% {\n",
              "      border-color: transparent;\n",
              "      border-right-color: var(--fill-color);\n",
              "      border-top-color: var(--fill-color);\n",
              "    }\n",
              "    60% {\n",
              "      border-color: transparent;\n",
              "      border-right-color: var(--fill-color);\n",
              "    }\n",
              "    80% {\n",
              "      border-color: transparent;\n",
              "      border-right-color: var(--fill-color);\n",
              "      border-bottom-color: var(--fill-color);\n",
              "    }\n",
              "    90% {\n",
              "      border-color: transparent;\n",
              "      border-bottom-color: var(--fill-color);\n",
              "    }\n",
              "  }\n",
              "</style>\n",
              "\n",
              "  <script>\n",
              "    async function quickchart(key) {\n",
              "      const quickchartButtonEl =\n",
              "        document.querySelector('#' + key + ' button');\n",
              "      quickchartButtonEl.disabled = true;  // To prevent multiple clicks.\n",
              "      quickchartButtonEl.classList.add('colab-df-spinner');\n",
              "      try {\n",
              "        const charts = await google.colab.kernel.invokeFunction(\n",
              "            'suggestCharts', [key], {});\n",
              "      } catch (error) {\n",
              "        console.error('Error during call to suggestCharts:', error);\n",
              "      }\n",
              "      quickchartButtonEl.classList.remove('colab-df-spinner');\n",
              "      quickchartButtonEl.classList.add('colab-df-quickchart-complete');\n",
              "    }\n",
              "    (() => {\n",
              "      let quickchartButtonEl =\n",
              "        document.querySelector('#df-dc8dc35f-73e4-4fad-84a4-5d3026b737d8 button');\n",
              "      quickchartButtonEl.style.display =\n",
              "        google.colab.kernel.accessAllowed ? 'block' : 'none';\n",
              "    })();\n",
              "  </script>\n",
              "</div>\n",
              "\n",
              "    </div>\n",
              "  </div>\n"
            ],
            "application/vnd.google.colaboratory.intrinsic+json": {
              "type": "dataframe",
              "summary": "{\n  \"name\": \"robjects\",\n  \"rows\": 28265,\n  \"fields\": [\n    {\n      \"column\": \"BUYER_COUNTY\",\n      \"properties\": {\n        \"dtype\": \"category\",\n        \"num_unique_values\": 1849,\n        \"samples\": [\n          \"ALLEN\",\n          \"CUYAHOGA\",\n          \"CLOUD\"\n        ],\n        \"semantic_type\": \"\",\n        \"description\": \"\"\n      }\n    },\n    {\n      \"column\": \"state\",\n      \"properties\": {\n        \"dtype\": \"category\",\n        \"num_unique_values\": 51,\n        \"samples\": [\n          \"TX\",\n          \"SC\",\n          \"VA\"\n        ],\n        \"semantic_type\": \"\",\n        \"description\": \"\"\n      }\n    },\n    {\n      \"column\": \"countyfips\",\n      \"properties\": {\n        \"dtype\": \"category\",\n        \"num_unique_values\": 3142,\n        \"samples\": [\n          \"49033\",\n          \"53041\",\n          \"21151\"\n        ],\n        \"semantic_type\": \"\",\n        \"description\": \"\"\n      }\n    },\n    {\n      \"column\": \"STATE\",\n      \"properties\": {\n        \"dtype\": \"number\",\n        \"std\": 15.137697717183638,\n        \"min\": 1.0,\n        \"max\": 56.0,\n        \"num_unique_values\": 51,\n        \"samples\": [\n          48.0,\n          45.0,\n          51.0\n        ],\n        \"semantic_type\": \"\",\n        \"description\": \"\"\n      }\n    },\n    {\n      \"column\": \"COUNTY\",\n      \"properties\": {\n        \"dtype\": \"number\",\n        \"std\": 107.9456372858417,\n        \"min\": 1.0,\n        \"max\": 840.0,\n        \"num_unique_values\": 325,\n        \"samples\": [\n          409.0,\n          163.0,\n          437.0\n        ],\n        \"semantic_type\": \"\",\n        \"description\": \"\"\n      }\n    },\n    {\n      \"column\": \"county_name.x\",\n      \"properties\": {\n        \"dtype\": \"category\",\n        \"num_unique_values\": 1850,\n        \"samples\": [\n          \"Conejos\",\n          \"Hays\",\n          \"Brown\"\n        ],\n        \"semantic_type\": \"\",\n        \"description\": \"\"\n      }\n    },\n    {\n      \"column\": \"NAME\",\n      \"properties\": {\n        \"dtype\": \"category\",\n        \"num_unique_values\": 3139,\n        \"samples\": [\n          \"Do?a Ana County, New Mexico\",\n          \"Cerro Gordo County, Iowa\",\n          \"Hancock County, Georgia\"\n        ],\n        \"semantic_type\": \"\",\n        \"description\": \"\"\n      }\n    },\n    {\n      \"column\": \"variable\",\n      \"properties\": {\n        \"dtype\": \"category\",\n        \"num_unique_values\": 1,\n        \"samples\": [\n          \"B01003_001\"\n        ],\n        \"semantic_type\": \"\",\n        \"description\": \"\"\n      }\n    },\n    {\n      \"column\": \"year\",\n      \"properties\": {\n        \"dtype\": \"int32\",\n        \"num_unique_values\": 9,\n        \"samples\": [\n          2013\n        ],\n        \"semantic_type\": \"\",\n        \"description\": \"\"\n      }\n    },\n    {\n      \"column\": \"pop\",\n      \"properties\": {\n        \"dtype\": \"number\",\n        \"std\": 310906.96636547963,\n        \"min\": 41.0,\n        \"max\": 9974203.0,\n        \"num_unique_values\": 24017,\n        \"samples\": [\n          8249.0\n        ],\n        \"semantic_type\": \"\",\n        \"description\": \"\"\n      }\n    },\n    {\n      \"column\": \"Areaname\",\n      \"properties\": {\n        \"dtype\": \"category\",\n        \"num_unique_values\": 3136,\n        \"samples\": [\n          \"Catron, NM\"\n        ],\n        \"semantic_type\": \"\",\n        \"description\": \"\"\n      }\n    },\n    {\n      \"column\": \"LND110210D\",\n      \"properties\": {\n        \"dtype\": \"number\",\n        \"std\": 3612.5326003743276,\n        \"min\": 2.0,\n        \"max\": 145504.79,\n        \"num_unique_values\": 3101,\n        \"samples\": [\n          306.02\n        ],\n        \"semantic_type\": \"\",\n        \"description\": \"\"\n      }\n    },\n    {\n      \"column\": \"county_name.y\",\n      \"properties\": {\n        \"dtype\": \"category\",\n        \"num_unique_values\": 1782,\n        \"samples\": [\n          \"INGHAM\"\n        ],\n        \"semantic_type\": \"\",\n        \"description\": \"\"\n      }\n    },\n    {\n      \"column\": \"count\",\n      \"properties\": {\n        \"dtype\": \"number\",\n        \"std\": 19750.03829424379,\n        \"min\": 1.0,\n        \"max\": 465799.0,\n        \"num_unique_values\": 12203,\n        \"samples\": [\n          14229.0\n        ],\n        \"semantic_type\": \"\",\n        \"description\": \"\"\n      }\n    },\n    {\n      \"column\": \"opioid_pills\",\n      \"properties\": {\n        \"dtype\": \"number\",\n        \"std\": 9180379.593343435,\n        \"min\": 6.0,\n        \"max\": 210636747.2,\n        \"num_unique_values\": 24457,\n        \"samples\": [\n          274150.0\n        ],\n        \"semantic_type\": \"\",\n        \"description\": \"\"\n      }\n    },\n    {\n      \"column\": \"opioid_pills_per_person\",\n      \"properties\": {\n        \"dtype\": \"number\",\n        \"std\": 24.230874166873946,\n        \"min\": 0.004421518054532056,\n        \"max\": 379.54171855541716,\n        \"num_unique_values\": 26974,\n        \"samples\": [\n          60.05408789282584\n        ],\n        \"semantic_type\": \"\",\n        \"description\": \"\"\n      }\n    }\n  ]\n}"
            }
          },
          "metadata": {},
          "execution_count": 105
        }
      ]
    }
  ]
}