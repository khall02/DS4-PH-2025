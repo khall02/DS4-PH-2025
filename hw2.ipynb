{
  "nbformat": 4,
  "nbformat_minor": 0,
  "metadata": {
    "colab": {
      "provenance": [],
      "authorship_tag": "ABX9TyPJDvGzCT5lPYTMBhUEHR/M",
      "include_colab_link": true
    },
    "kernelspec": {
      "name": "python3",
      "display_name": "Python 3"
    },
    "language_info": {
      "name": "python"
    }
  },
  "cells": [
    {
      "cell_type": "markdown",
      "metadata": {
        "id": "view-in-github",
        "colab_type": "text"
      },
      "source": [
        "<a href=\"https://colab.research.google.com/github/khall02/DS4-PH-2025/blob/main/hw2.ipynb\" target=\"_parent\"><img src=\"https://colab.research.google.com/assets/colab-badge.svg\" alt=\"Open In Colab\"/></a>"
      ]
    },
    {
      "cell_type": "markdown",
      "source": [
        "1. Sorting hat takes in Y or N answers, returns a Hogwart house (Gryffindor or Slytherine), using if/else/elsif statements."
      ],
      "metadata": {
        "id": "JHvJNUxrxDIy"
      }
    },
    {
      "cell_type": "code",
      "source": [
        "def sorting_hat():\n",
        "  #First question\n",
        "  shrewd = input(\"Are you shrewd? (y/n) >\")\n",
        "\n",
        "  #Second question\n",
        "  power = input(\"Do you try to seek as much power as possible? (y/n) >\")\n",
        "\n",
        "  #Determine house: Slytherin or Gryffindor\n",
        "\n",
        "  if shrewd == 'y' and power == 'y':\n",
        "    print(\"Slytherin\")\n",
        "  else:\n",
        "    print(\"Gryffindor\")\n",
        "\n",
        "sorting_hat()\n"
      ],
      "metadata": {
        "colab": {
          "base_uri": "https://localhost:8080/"
        },
        "id": "5dTLF0PMRAT9",
        "outputId": "5bed6637-6c51-4735-e625-02625ed802d7"
      },
      "execution_count": 6,
      "outputs": [
        {
          "output_type": "stream",
          "name": "stdout",
          "text": [
            "Are you shrewd? (y/n) >n\n",
            "Do you try to seek as much power as possible? (y/n) >n\n",
            "Gryffindor\n"
          ]
        }
      ]
    },
    {
      "cell_type": "markdown",
      "source": [
        "2. Write a class mydata that takes in list of numbers, returns mean and stdev."
      ],
      "metadata": {
        "id": "XQ-8ps07RO68"
      }
    },
    {
      "cell_type": "code",
      "source": [
        "class mydata:\n",
        "  def __init__(self, data):\n",
        "    self.data = data\n",
        "\n",
        "  #calculate mean\n",
        "  def mean(self):\n",
        "    return sum(self.data) / len(self.data)\n",
        "\n",
        "  #calculate sd\n",
        "  def std(self):\n",
        "    mean = self.mean()\n",
        "    variance = sum([(x - mean) ** 2 for x in self.data]) / len(self.data)\n",
        "    return variance ** 0.5\n",
        "\n",
        "\n",
        "x = mydata([1, 2, 7, 5])\n",
        "\n",
        "print(\"Mean:\", x.mean())\n",
        "print(\"Standard Deviation:\", x.std())"
      ],
      "metadata": {
        "colab": {
          "base_uri": "https://localhost:8080/"
        },
        "id": "eA9W5PixRvGX",
        "outputId": "465ce993-21a6-46ff-8c07-4c232f4a8bcb"
      },
      "execution_count": 13,
      "outputs": [
        {
          "output_type": "stream",
          "name": "stdout",
          "text": [
            "Mean: 3.75\n",
            "Standard Deviation: 2.384848003542364\n"
          ]
        }
      ]
    },
    {
      "cell_type": "markdown",
      "source": [
        "3. Create function called lag: takes in a numpy vector and integer. Returns the list lagged by the integer value."
      ],
      "metadata": {
        "id": "MlJpzLy6Vbfg"
      }
    },
    {
      "cell_type": "code",
      "source": [
        "import numpy\n",
        "\n",
        "def lag(arr, n):\n",
        "    if not isinstance(arr, numpy.ndarray):\n",
        "        raise ValueError(\"Input must be a numpy array.\")\n",
        "    if not isinstance(n, int) or n <= 0:\n",
        "        raise ValueError(\"Lag value must be an integer greater than 0.\")\n",
        "\n",
        "    #Creates array with nas\n",
        "    lagged_arr = numpy.full_like(arr, numpy.nan, dtype=float)\n",
        "    #Shift values using numpy index\n",
        "    lagged_arr[n:] = arr[:-n]\n",
        "\n",
        "    return lagged_arr\n",
        "\n",
        "\n",
        "# Example usage\n",
        "a = numpy.array([1, 6, 8, 4])\n",
        "print(lag(a, 1))\n",
        "print(lag(a, 2))"
      ],
      "metadata": {
        "colab": {
          "base_uri": "https://localhost:8080/"
        },
        "id": "6p5c-AASWYRL",
        "outputId": "f6f221fd-f872-4959-9566-294b75514f09"
      },
      "execution_count": 30,
      "outputs": [
        {
          "output_type": "stream",
          "name": "stdout",
          "text": [
            "[nan  1.  6.  8.]\n",
            "[nan nan  1.  6.]\n"
          ]
        }
      ]
    },
    {
      "cell_type": "markdown",
      "source": [
        "3. Write a function `lagGenerator` that returns - a function - that lags by a specific amount."
      ],
      "metadata": {
        "id": "htCMOdlYZJyf"
      }
    },
    {
      "cell_type": "code",
      "source": [
        "def lagGenerator(n):\n",
        "    return lambda arr: lag(arr, n)\n",
        "\n",
        "lag2 = lagGenerator(2)  # Creates a function that lags by 2\n",
        "print(lag2(a))  # Should print: [nan, nan, 1, 6]\n",
        "\n",
        "lag1 = lagGenerator(1)  # Creates a function that lags by 1\n",
        "print(lag1(a))  # Should print: [nan, 1, 6, 8]\n",
        "\n",
        "lag3= lagGenerator(3)\n",
        "print(lag3(a))\n"
      ],
      "metadata": {
        "colab": {
          "base_uri": "https://localhost:8080/"
        },
        "id": "eszmR676ZOgw",
        "outputId": "b982e810-c51f-470b-b9bd-e9c009fe920c"
      },
      "execution_count": 43,
      "outputs": [
        {
          "output_type": "stream",
          "name": "stdout",
          "text": [
            "[nan nan  1.  6.]\n",
            "[nan  1.  6.  8.]\n",
            "[nan nan nan  1.]\n"
          ]
        }
      ]
    }
  ]
}